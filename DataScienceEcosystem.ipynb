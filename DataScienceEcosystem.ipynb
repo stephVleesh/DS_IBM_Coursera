{
 "cells": [
  {
   "cell_type": "markdown",
   "id": "addc2e67-67ff-4986-a166-9bd66b3760bd",
   "metadata": {},
   "source": [
    "# Data Science Tools and Ecosystem"
   ]
  },
  {
   "cell_type": "markdown",
   "id": "d1227ad8-ae7f-4618-a999-4759c6864210",
   "metadata": {},
   "source": [
    "In this notebook, Data Science Tools and Ecosystem are summarized."
   ]
  },
  {
   "cell_type": "markdown",
   "id": "0b79b7eb-e55e-4c93-8e61-695fd73f3411",
   "metadata": {},
   "source": [
    "**objectives:**\n",
    "- list some popular languages for DS\n",
    "- list some popular libraries for DS\n",
    "- list some popular open source for DS\n",
    "- execute some simple Pyton code in the nodebook"
   ]
  },
  {
   "cell_type": "markdown",
   "id": "71397a19-180f-4bf8-bcc0-b717f85f3f8c",
   "metadata": {},
   "source": [
    "### Popular languages for DS"
   ]
  },
  {
   "cell_type": "markdown",
   "id": "a6138952-c3a9-440c-a0da-4bdc08350927",
   "metadata": {},
   "source": [
    "Some of the popular languages that Data Scientists use are:"
   ]
  },
  {
   "cell_type": "markdown",
   "id": "b8b34e74-6390-4a50-a327-3d39c3351a90",
   "metadata": {},
   "source": [
    "1. Python \n",
    "2. R \n",
    "3. SQL \n",
    "4. java \n",
    "5. Scala \n",
    "6. Javascript \n",
    "7. C++\n",
    "8. Julia "
   ]
  },
  {
   "cell_type": "markdown",
   "id": "c70858cf-7450-4a32-a087-e94a4d9aee56",
   "metadata": {},
   "source": [
    " ### Popular libraries for DS"
   ]
  },
  {
   "cell_type": "markdown",
   "id": "33f61213-aed0-4f42-8683-d475cdf6141a",
   "metadata": {},
   "source": [
    "Some of the commonly used libraries used by Data Scientists include:"
   ]
  },
  {
   "cell_type": "markdown",
   "id": "f4c0d2f7-1679-4ab3-923d-8b43e838a4a4",
   "metadata": {},
   "source": [
    "1. NumPy\n",
    "2. Pandas\n",
    "3. Scikit\n",
    "4. Matplotlib\n",
    "5. Seaborn"
   ]
  },
  {
   "cell_type": "code",
   "execution_count": 9,
   "id": "7b421be8-5614-4164-89cb-c4d5cce40218",
   "metadata": {},
   "outputs": [
    {
     "data": {
      "text/html": [
       "<style>\n",
       "table {float:left}\n",
       "</style>\n"
      ],
      "text/plain": [
       "<IPython.core.display.HTML object>"
      ]
     },
     "metadata": {},
     "output_type": "display_data"
    }
   ],
   "source": [
    "%%html\n",
    "<style>\n",
    "table {float:left}\n",
    "</style>"
   ]
  },
  {
   "cell_type": "markdown",
   "id": "55b4e30a-3464-4ba6-9b58-e421b9922110",
   "metadata": {},
   "source": [
    "n.b. without the 3 lines her above the table is aliging on the left, only centered"
   ]
  },
  {
   "attachments": {},
   "cell_type": "markdown",
   "id": "07ea62f2-a365-4ead-bf98-0dcf7e87eca2",
   "metadata": {},
   "source": [
    "Data Science tools|\n",
    "|:------------------|\n",
    "|Jupyter|\n",
    "|Rstudio|\n",
    "|Anaconda|\n",
    "|Apache Zeppelin|"
   ]
  },
  {
   "cell_type": "markdown",
   "id": "0f31f035-3833-46f4-b403-98555936917e",
   "metadata": {},
   "source": [
    "### Below are a few examples of evaluating arithmetic expressions in Python"
   ]
  },
  {
   "cell_type": "code",
   "execution_count": 7,
   "id": "8a406fee-81ca-4aac-87af-2566bea32240",
   "metadata": {},
   "outputs": [
    {
     "data": {
      "text/plain": [
       "17"
      ]
     },
     "execution_count": 7,
     "metadata": {},
     "output_type": "execute_result"
    }
   ],
   "source": [
    "(3*4)+5"
   ]
  },
  {
   "cell_type": "markdown",
   "id": "00acff0a-8936-4ca8-b433-514038bd4303",
   "metadata": {},
   "source": [
    "This will convert 200 minutes to hours by diving by 60:"
   ]
  },
  {
   "cell_type": "code",
   "execution_count": 8,
   "id": "9160cd16-2a11-48dc-bc7d-1da7d75075b6",
   "metadata": {},
   "outputs": [
    {
     "name": "stdout",
     "output_type": "stream",
     "text": [
      "200 min are 3 hours and 20 min\n"
     ]
    }
   ],
   "source": [
    "print(\"200 min are\", int(200/60), \"hours and\", 200 % 60, \"min\") "
   ]
  },
  {
   "cell_type": "markdown",
   "id": "9e2ad583-36be-402f-b477-28fd67f7cdcd",
   "metadata": {},
   "source": [
    "## Author\n",
    "Stéphane Vleeshouwer"
   ]
  },
  {
   "cell_type": "code",
   "execution_count": null,
   "id": "b2f98804-a29f-4a6a-af3f-8f7ddf33322b",
   "metadata": {},
   "outputs": [],
   "source": []
  }
 ],
 "metadata": {
  "kernelspec": {
   "display_name": "Python 3 (ipykernel)",
   "language": "python",
   "name": "python3"
  },
  "language_info": {
   "codemirror_mode": {
    "name": "ipython",
    "version": 3
   },
   "file_extension": ".py",
   "mimetype": "text/x-python",
   "name": "python",
   "nbconvert_exporter": "python",
   "pygments_lexer": "ipython3",
   "version": "3.12.7"
  }
 },
 "nbformat": 4,
 "nbformat_minor": 5
}
